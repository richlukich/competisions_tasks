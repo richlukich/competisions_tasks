{
  "nbformat": 4,
  "nbformat_minor": 0,
  "metadata": {
    "colab": {
      "name": "kaggleNLPtweets.ipynb",
      "provenance": [],
      "collapsed_sections": [],
      "toc_visible": true
    },
    "kernelspec": {
      "name": "python3",
      "display_name": "Python 3"
    }
  },
  "cells": [
    {
      "cell_type": "code",
      "metadata": {
        "id": "IATI8id-GWTn"
      },
      "source": [
        "import pandas as pd\n",
        "import numpy as np\n",
        "import tensorflow as tf\n",
        "import matplotlib.pyplot as plt\n",
        "from tensorflow.keras.preprocessing.text import Tokenizer\n",
        "from tensorflow.keras.preprocessing.sequence import pad_sequences\n",
        "from sklearn.model_selection import train_test_split\n",
        "from tensorflow.keras import layers\n",
        "import tensorflow_hub as hub\n",
        "from tensorflow.keras.layers import Dense, Input\n",
        "from tensorflow.keras.models import Model\n",
        "from tensorflow.keras.optimizers import Adam"
      ],
      "execution_count": null,
      "outputs": []
    },
    {
      "cell_type": "code",
      "metadata": {
        "colab": {
          "base_uri": "https://localhost:8080/"
        },
        "id": "oz1G6KeWEoy-",
        "outputId": "aae81581-3980-473b-f167-e0480de5ce8e"
      },
      "source": [
        "!pip install kaggle"
      ],
      "execution_count": null,
      "outputs": [
        {
          "output_type": "stream",
          "text": [
            "Requirement already satisfied: kaggle in /usr/local/lib/python3.7/dist-packages (1.5.10)\n",
            "Requirement already satisfied: certifi in /usr/local/lib/python3.7/dist-packages (from kaggle) (2020.12.5)\n",
            "Requirement already satisfied: tqdm in /usr/local/lib/python3.7/dist-packages (from kaggle) (4.41.1)\n",
            "Requirement already satisfied: urllib3 in /usr/local/lib/python3.7/dist-packages (from kaggle) (1.24.3)\n",
            "Requirement already satisfied: python-dateutil in /usr/local/lib/python3.7/dist-packages (from kaggle) (2.8.1)\n",
            "Requirement already satisfied: python-slugify in /usr/local/lib/python3.7/dist-packages (from kaggle) (4.0.1)\n",
            "Requirement already satisfied: requests in /usr/local/lib/python3.7/dist-packages (from kaggle) (2.23.0)\n",
            "Requirement already satisfied: six>=1.10 in /usr/local/lib/python3.7/dist-packages (from kaggle) (1.15.0)\n",
            "Requirement already satisfied: text-unidecode>=1.3 in /usr/local/lib/python3.7/dist-packages (from python-slugify->kaggle) (1.3)\n",
            "Requirement already satisfied: chardet<4,>=3.0.2 in /usr/local/lib/python3.7/dist-packages (from requests->kaggle) (3.0.4)\n",
            "Requirement already satisfied: idna<3,>=2.5 in /usr/local/lib/python3.7/dist-packages (from requests->kaggle) (2.10)\n"
          ],
          "name": "stdout"
        }
      ]
    },
    {
      "cell_type": "code",
      "metadata": {
        "colab": {
          "resources": {
            "http://localhost:8080/nbextensions/google.colab/files.js": {
              "data": "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",
              "ok": true,
              "headers": [
                [
                  "content-type",
                  "application/javascript"
                ]
              ],
              "status": 200,
              "status_text": ""
            }
          },
          "base_uri": "https://localhost:8080/",
          "height": 89
        },
        "id": "UeOzU_KJE3pO",
        "outputId": "bed886be-1d6f-4588-e8bc-aec877f140cd"
      },
      "source": [
        "from google.colab import files\n",
        "files.upload()"
      ],
      "execution_count": null,
      "outputs": [
        {
          "output_type": "display_data",
          "data": {
            "text/html": [
              "\n",
              "     <input type=\"file\" id=\"files-e35d3110-aa4c-47b2-82cf-b8ecc141548d\" name=\"files[]\" multiple disabled\n",
              "        style=\"border:none\" />\n",
              "     <output id=\"result-e35d3110-aa4c-47b2-82cf-b8ecc141548d\">\n",
              "      Upload widget is only available when the cell has been executed in the\n",
              "      current browser session. Please rerun this cell to enable.\n",
              "      </output>\n",
              "      <script src=\"/nbextensions/google.colab/files.js\"></script> "
            ],
            "text/plain": [
              "<IPython.core.display.HTML object>"
            ]
          },
          "metadata": {
            "tags": []
          }
        },
        {
          "output_type": "stream",
          "text": [
            "Saving kaggle.json to kaggle (2).json\n"
          ],
          "name": "stdout"
        },
        {
          "output_type": "execute_result",
          "data": {
            "text/plain": [
              "{'kaggle.json': b'{\"username\":\"richlukich\",\"key\":\"0acae6c503a810f42cada4da397984d4\"}'}"
            ]
          },
          "metadata": {
            "tags": []
          },
          "execution_count": 221
        }
      ]
    },
    {
      "cell_type": "code",
      "metadata": {
        "id": "fIoFf_drFouQ"
      },
      "source": [
        "!mkdir -p ~/.kaggle\n",
        "!cp kaggle.json ~/.kaggle/"
      ],
      "execution_count": null,
      "outputs": []
    },
    {
      "cell_type": "code",
      "metadata": {
        "id": "gxzysh34Fx3d"
      },
      "source": [
        "\n",
        "!chmod 600 ~/.kaggle/kaggle.json"
      ],
      "execution_count": null,
      "outputs": []
    },
    {
      "cell_type": "code",
      "metadata": {
        "colab": {
          "base_uri": "https://localhost:8080/"
        },
        "id": "5O6huJc0F1WA",
        "outputId": "e1619490-357d-49d1-bf2d-afd69d070730"
      },
      "source": [
        "!kaggle competitions download -c nlp-getting-started"
      ],
      "execution_count": null,
      "outputs": [
        {
          "output_type": "stream",
          "text": [
            "Warning: Looks like you're using an outdated API Version, please consider updating (server 1.5.10 / client 1.5.4)\n",
            "train.csv: Skipping, found more recently modified local copy (use --force to force download)\n",
            "test.csv: Skipping, found more recently modified local copy (use --force to force download)\n",
            "sample_submission.csv: Skipping, found more recently modified local copy (use --force to force download)\n"
          ],
          "name": "stdout"
        }
      ]
    },
    {
      "cell_type": "code",
      "metadata": {
        "id": "n2g5SUBUGM2G"
      },
      "source": [
        "df_train=pd.read_csv('/content/train.csv',index_col='id')"
      ],
      "execution_count": null,
      "outputs": []
    },
    {
      "cell_type": "code",
      "metadata": {
        "colab": {
          "base_uri": "https://localhost:8080/",
          "height": 450
        },
        "id": "NKTAnPWYGUdK",
        "outputId": "83db7564-146e-4e51-d08b-0821b5cfc798"
      },
      "source": [
        "df_train"
      ],
      "execution_count": null,
      "outputs": [
        {
          "output_type": "execute_result",
          "data": {
            "text/html": [
              "<div>\n",
              "<style scoped>\n",
              "    .dataframe tbody tr th:only-of-type {\n",
              "        vertical-align: middle;\n",
              "    }\n",
              "\n",
              "    .dataframe tbody tr th {\n",
              "        vertical-align: top;\n",
              "    }\n",
              "\n",
              "    .dataframe thead th {\n",
              "        text-align: right;\n",
              "    }\n",
              "</style>\n",
              "<table border=\"1\" class=\"dataframe\">\n",
              "  <thead>\n",
              "    <tr style=\"text-align: right;\">\n",
              "      <th></th>\n",
              "      <th>keyword</th>\n",
              "      <th>location</th>\n",
              "      <th>text</th>\n",
              "      <th>target</th>\n",
              "    </tr>\n",
              "    <tr>\n",
              "      <th>id</th>\n",
              "      <th></th>\n",
              "      <th></th>\n",
              "      <th></th>\n",
              "      <th></th>\n",
              "    </tr>\n",
              "  </thead>\n",
              "  <tbody>\n",
              "    <tr>\n",
              "      <th>1</th>\n",
              "      <td>NaN</td>\n",
              "      <td>NaN</td>\n",
              "      <td>Our Deeds are the Reason of this #earthquake M...</td>\n",
              "      <td>1</td>\n",
              "    </tr>\n",
              "    <tr>\n",
              "      <th>4</th>\n",
              "      <td>NaN</td>\n",
              "      <td>NaN</td>\n",
              "      <td>Forest fire near La Ronge Sask. Canada</td>\n",
              "      <td>1</td>\n",
              "    </tr>\n",
              "    <tr>\n",
              "      <th>5</th>\n",
              "      <td>NaN</td>\n",
              "      <td>NaN</td>\n",
              "      <td>All residents asked to 'shelter in place' are ...</td>\n",
              "      <td>1</td>\n",
              "    </tr>\n",
              "    <tr>\n",
              "      <th>6</th>\n",
              "      <td>NaN</td>\n",
              "      <td>NaN</td>\n",
              "      <td>13,000 people receive #wildfires evacuation or...</td>\n",
              "      <td>1</td>\n",
              "    </tr>\n",
              "    <tr>\n",
              "      <th>7</th>\n",
              "      <td>NaN</td>\n",
              "      <td>NaN</td>\n",
              "      <td>Just got sent this photo from Ruby #Alaska as ...</td>\n",
              "      <td>1</td>\n",
              "    </tr>\n",
              "    <tr>\n",
              "      <th>...</th>\n",
              "      <td>...</td>\n",
              "      <td>...</td>\n",
              "      <td>...</td>\n",
              "      <td>...</td>\n",
              "    </tr>\n",
              "    <tr>\n",
              "      <th>10869</th>\n",
              "      <td>NaN</td>\n",
              "      <td>NaN</td>\n",
              "      <td>Two giant cranes holding a bridge collapse int...</td>\n",
              "      <td>1</td>\n",
              "    </tr>\n",
              "    <tr>\n",
              "      <th>10870</th>\n",
              "      <td>NaN</td>\n",
              "      <td>NaN</td>\n",
              "      <td>@aria_ahrary @TheTawniest The out of control w...</td>\n",
              "      <td>1</td>\n",
              "    </tr>\n",
              "    <tr>\n",
              "      <th>10871</th>\n",
              "      <td>NaN</td>\n",
              "      <td>NaN</td>\n",
              "      <td>M1.94 [01:04 UTC]?5km S of Volcano Hawaii. htt...</td>\n",
              "      <td>1</td>\n",
              "    </tr>\n",
              "    <tr>\n",
              "      <th>10872</th>\n",
              "      <td>NaN</td>\n",
              "      <td>NaN</td>\n",
              "      <td>Police investigating after an e-bike collided ...</td>\n",
              "      <td>1</td>\n",
              "    </tr>\n",
              "    <tr>\n",
              "      <th>10873</th>\n",
              "      <td>NaN</td>\n",
              "      <td>NaN</td>\n",
              "      <td>The Latest: More Homes Razed by Northern Calif...</td>\n",
              "      <td>1</td>\n",
              "    </tr>\n",
              "  </tbody>\n",
              "</table>\n",
              "<p>7613 rows × 4 columns</p>\n",
              "</div>"
            ],
            "text/plain": [
              "      keyword  ... target\n",
              "id             ...       \n",
              "1         NaN  ...      1\n",
              "4         NaN  ...      1\n",
              "5         NaN  ...      1\n",
              "6         NaN  ...      1\n",
              "7         NaN  ...      1\n",
              "...       ...  ...    ...\n",
              "10869     NaN  ...      1\n",
              "10870     NaN  ...      1\n",
              "10871     NaN  ...      1\n",
              "10872     NaN  ...      1\n",
              "10873     NaN  ...      1\n",
              "\n",
              "[7613 rows x 4 columns]"
            ]
          },
          "metadata": {
            "tags": []
          },
          "execution_count": 226
        }
      ]
    },
    {
      "cell_type": "code",
      "metadata": {
        "id": "ilC0gBOsG7vc"
      },
      "source": [
        "df=df_train.drop(['location','keyword'],axis=1)"
      ],
      "execution_count": null,
      "outputs": []
    },
    {
      "cell_type": "code",
      "metadata": {
        "colab": {
          "base_uri": "https://localhost:8080/",
          "height": 235
        },
        "id": "cOgFrAdMHVOv",
        "outputId": "d63a080d-5abe-4bb4-dbd2-299446d87921"
      },
      "source": [
        "df.head()"
      ],
      "execution_count": null,
      "outputs": [
        {
          "output_type": "execute_result",
          "data": {
            "text/html": [
              "<div>\n",
              "<style scoped>\n",
              "    .dataframe tbody tr th:only-of-type {\n",
              "        vertical-align: middle;\n",
              "    }\n",
              "\n",
              "    .dataframe tbody tr th {\n",
              "        vertical-align: top;\n",
              "    }\n",
              "\n",
              "    .dataframe thead th {\n",
              "        text-align: right;\n",
              "    }\n",
              "</style>\n",
              "<table border=\"1\" class=\"dataframe\">\n",
              "  <thead>\n",
              "    <tr style=\"text-align: right;\">\n",
              "      <th></th>\n",
              "      <th>text</th>\n",
              "      <th>target</th>\n",
              "    </tr>\n",
              "    <tr>\n",
              "      <th>id</th>\n",
              "      <th></th>\n",
              "      <th></th>\n",
              "    </tr>\n",
              "  </thead>\n",
              "  <tbody>\n",
              "    <tr>\n",
              "      <th>1</th>\n",
              "      <td>Our Deeds are the Reason of this #earthquake M...</td>\n",
              "      <td>1</td>\n",
              "    </tr>\n",
              "    <tr>\n",
              "      <th>4</th>\n",
              "      <td>Forest fire near La Ronge Sask. Canada</td>\n",
              "      <td>1</td>\n",
              "    </tr>\n",
              "    <tr>\n",
              "      <th>5</th>\n",
              "      <td>All residents asked to 'shelter in place' are ...</td>\n",
              "      <td>1</td>\n",
              "    </tr>\n",
              "    <tr>\n",
              "      <th>6</th>\n",
              "      <td>13,000 people receive #wildfires evacuation or...</td>\n",
              "      <td>1</td>\n",
              "    </tr>\n",
              "    <tr>\n",
              "      <th>7</th>\n",
              "      <td>Just got sent this photo from Ruby #Alaska as ...</td>\n",
              "      <td>1</td>\n",
              "    </tr>\n",
              "  </tbody>\n",
              "</table>\n",
              "</div>"
            ],
            "text/plain": [
              "                                                 text  target\n",
              "id                                                           \n",
              "1   Our Deeds are the Reason of this #earthquake M...       1\n",
              "4              Forest fire near La Ronge Sask. Canada       1\n",
              "5   All residents asked to 'shelter in place' are ...       1\n",
              "6   13,000 people receive #wildfires evacuation or...       1\n",
              "7   Just got sent this photo from Ruby #Alaska as ...       1"
            ]
          },
          "metadata": {
            "tags": []
          },
          "execution_count": 265
        }
      ]
    },
    {
      "cell_type": "code",
      "metadata": {
        "colab": {
          "base_uri": "https://localhost:8080/",
          "height": 449
        },
        "id": "YjnzsZ8ZM_32",
        "outputId": "8e018483-a385-4470-acdb-11bb411d2787"
      },
      "source": [
        "from wordcloud import WordCloud, STOPWORDS\n",
        "stopwords = set(STOPWORDS)\n",
        "\n",
        "def show_wordcloud(data, title = None):\n",
        "    wordcloud = WordCloud(\n",
        "        background_color='white',\n",
        "        stopwords=stopwords,\n",
        "        max_words=200,\n",
        "        max_font_size=40, \n",
        "        scale=3,\n",
        "        random_state=1 \n",
        ").generate(str(data))\n",
        "\n",
        "    fig = plt.figure(1, figsize=(15, 15))\n",
        "    plt.axis('off')\n",
        "    if title: \n",
        "        fig.suptitle(title, fontsize=20)\n",
        "        fig.subplots_adjust(top=2.3)\n",
        "\n",
        "    plt.imshow(wordcloud)\n",
        "    plt.show()\n",
        "\n",
        "show_wordcloud(df['text'])"
      ],
      "execution_count": null,
      "outputs": [
        {
          "output_type": "display_data",
          "data": {
            "image/png": "[encoded data removed]",
            "text/plain": [
              "<Figure size 1080x1080 with 1 Axes>"
            ]
          },
          "metadata": {
            "tags": [],
            "needs_background": "light"
          }
        }
      ]
    },
    {
      "cell_type": "code",
      "metadata": {
        "id": "KFwUeToRM_y0"
      },
      "source": [
        "def decontracted(text):\n",
        "    text = re.sub(r\"won\\'t\", \"will not\", text)\n",
        "    text = re.sub(r\"can\\'t\", \"can not\", text)\n",
        "    text = re.sub(r\"n\\'t\", \" not\", text)\n",
        "    text = re.sub(r\"\\'re\", \" are\", text)\n",
        "    text = re.sub(r\"\\'s\", \" is\", text)\n",
        "    text = re.sub(r\"\\'d\", \" would\", text)\n",
        "    text = re.sub(r\"\\'ll\", \" will\", text)\n",
        "    text = re.sub(r\"\\'t\", \" not\", text)\n",
        "    text = re.sub(r\"\\'ve\", \" have\", text)\n",
        "    text = re.sub(r\"\\'m\", \" am\", text)\n",
        "    return text"
      ],
      "execution_count": null,
      "outputs": []
    },
    {
      "cell_type": "code",
      "metadata": {
        "id": "lJNj4ypvOFtV"
      },
      "source": [
        "def remove_stop_words(text):\n",
        "    #dict containing english stop words\n",
        "    stop_words = {'ourselves', 'hers', 'between', 'yourself', 'but', 'again', 'there', 'about', 'once',\n",
        "               'during', 'out', 'very', 'having', 'with', 'they', 'own', 'an', 'be', 'some', \n",
        "                'for', 'do', 'its', 'yours', 'such', 'into', 'of', 'most', 'itself', 'other', \n",
        "                'off', 'is', 's', 'am', 'or', 'who', 'as', 'from', 'him', 'each',\n",
        "                'the', 'themselves', 'until', 'below', 'are', 'we', 'these', 'your', 'his', 'through', \n",
        "                'don', 'nor', 'me', 'were', 'her', 'more', 'himself', 'this', 'down', 'should', 'our', \n",
        "                'their', 'while', 'above', 'both', 'up', 'to', 'ours', 'had', 'she', 'all', 'no', \n",
        "                'when', 'at', 'any', 'before', 'them', 'same', 'and', 'been', 'have', 'in', \n",
        "                'will', 'on', 'does', 'yourselves', 'then', 'that', 'because', 'what', 'over', 'why', \n",
        "                'so', 'can', 'did', 'not', 'now', 'under', 'he', 'you', 'herself', 'has', 'just', \n",
        "                'where', 'too', 'only', 'myself', 'which', 'those', 'i', 'after', 'few', 'whom', 't', \n",
        "                'being', 'if', 'theirs', 'my', 'against', 'a', 'by', 'doing', 'it', 'how', 'further',\n",
        "                'was', 'here', 'than'}\n",
        "  \n",
        "  #we need to get rid of some special characters\n",
        "    text = re.sub(r\"\\x89Û_\", \"\", text)\n",
        "    text = re.sub(r\"\\x89ÛÒ\", \"\", text)\n",
        "    text = re.sub(r\"\\x89ÛÓ\", \"\", text)\n",
        "\n",
        "  #convert all the text to lowercase\n",
        "    text = text.lower()\n",
        "    sentence_list = text.split()\n",
        "    new_sentence = []\n",
        "\n",
        "\n",
        "  \n",
        "    for word in sentence_list:\n",
        "        for stop_word in stop_words:\n",
        "            if (stop_word == word):\n",
        "                word = re.sub(stop_word, '', word)\n",
        "        new_sentence.append(word) \n",
        "    return (\" \".join(new_sentence))"
      ],
      "execution_count": null,
      "outputs": []
    },
    {
      "cell_type": "code",
      "metadata": {
        "id": "yFS2h1oEO387"
      },
      "source": [
        "def remove_punctuation(text):\n",
        "    #replace every punctuation with a whitespace to keep the words correct\n",
        "    text = re.sub(r'[^\\w\\s]',' ',text)\n",
        "    #remove the successive whitespaces\n",
        "    _RE_COMBINE_WHITESPACE = re.compile(r\"\\s+\")\n",
        "    no_punc = _RE_COMBINE_WHITESPACE.sub(\" \", text).strip()\n",
        "    return no_punc"
      ],
      "execution_count": null,
      "outputs": []
    },
    {
      "cell_type": "code",
      "metadata": {
        "colab": {
          "base_uri": "https://localhost:8080/"
        },
        "id": "LaC1r-8-PAoT",
        "outputId": "b4a24fd5-f9fa-4775-cd8c-a3aa2277c7d0"
      },
      "source": [
        "#this function removes emojis \n",
        "#as well as emoticons (representation of a human facial expression using only keyboard characters :D )\n",
        "#Installing emot library\n",
        "!pip install emot\n",
        "#Importing libraries\n",
        "import re\n",
        "from emot.emo_unicode import UNICODE_EMO, EMOTICONS\n",
        "\n",
        "def remove_emojis(text):\n",
        "    sentence = text.split()\n",
        "    new_sentence = []\n",
        "    emoji_pattern = re.compile(\"[\"\n",
        "                           u\"\\U0001F600-\\U0001F64F\"  # emoticons\n",
        "                           u\"\\U0001F300-\\U0001F5FF\"  # symbols & pictographs\n",
        "                           u\"\\U0001F680-\\U0001F6FF\"  # transport & map symbols\n",
        "                           u\"\\U0001F1E0-\\U0001F1FF\"  # flags (iOS)\n",
        "                           u\"\\U00002702-\\U000027B0\"\n",
        "                           u\"\\U000024C2-\\U0001F251\"\n",
        "                           \"]+\", flags=re.UNICODE)\n",
        "    emoticon_pattern = re.compile(u'(' + u'|'.join(k for k in EMOTICONS) + u')')\n",
        "\n",
        "    #since we have an emoticon \":/\" as substing in any url, we need to prevent replacing it \n",
        "    url_keep_pattern = re.compile(\"https?://\")\n",
        "  \n",
        "    for w in sentence :\n",
        "        w = emoji_pattern.sub(r'', w)\n",
        "        if (url_keep_pattern.match(w) is None): #if it's not a url\n",
        "            w = emoticon_pattern.sub(r'', w)\n",
        "        new_sentence.append(w)\n",
        "  \n",
        "  \n",
        "    return (\" \".join(new_sentence))"
      ],
      "execution_count": null,
      "outputs": [
        {
          "output_type": "stream",
          "text": [
            "Requirement already satisfied: emot in /usr/local/lib/python3.7/dist-packages (2.1)\n"
          ],
          "name": "stdout"
        }
      ]
    },
    {
      "cell_type": "code",
      "metadata": {
        "id": "X2zp52zPPgGj"
      },
      "source": [
        "def remove_html_tags(text):\n",
        "    clean = re.compile('<.*?>')\n",
        "    text = re.sub(clean, '', text)\n",
        "    return text"
      ],
      "execution_count": null,
      "outputs": []
    },
    {
      "cell_type": "code",
      "metadata": {
        "id": "tiVnrbslPlNR"
      },
      "source": [
        "def remove_urls (text):\n",
        "    text = re.sub(r'''(?i)\\b((?:https?://|www\\d{0,3}[.]|[a-z0-9.\\-]+[.][a-z]{2,4}/)(?:[^\\s()<>]+|\\(([^\\s()<>]+|(\\([^\\s()<>]+\\)))*\\))+(?:\\(([^\\s()<>]+|(\\([^\\s()<>]+\\)))*\\)|[^\\s`!()\\[\\]{};:'\".,<>?«»“”‘’]))''', '', text)\n",
        "    return text"
      ],
      "execution_count": null,
      "outputs": []
    },
    {
      "cell_type": "code",
      "metadata": {
        "id": "PDQewwAFPtU5"
      },
      "source": [
        "abbreviations = {\n",
        "    \"$\" : \" dollar \",\n",
        "    \"€\" : \" euro \",\n",
        "    \"4ao\" : \"for adults only\",\n",
        "    \"a.m\" : \"before midday\",\n",
        "    \"a3\" : \"anytime anywhere anyplace\",\n",
        "    \"aamof\" : \"as a matter of fact\",\n",
        "    \"acct\" : \"account\",\n",
        "    \"adih\" : \"another day in hell\",\n",
        "    \"afaic\" : \"as far as i am concerned\",\n",
        "    \"afaict\" : \"as far as i can tell\",\n",
        "    \"afaik\" : \"as far as i know\",\n",
        "    \"afair\" : \"as far as i remember\",\n",
        "    \"afk\" : \"away from keyboard\",\n",
        "    \"app\" : \"application\",\n",
        "    \"approx\" : \"approximately\",\n",
        "    \"apps\" : \"applications\",\n",
        "    \"asap\" : \"as soon as possible\",\n",
        "    \"asl\" : \"age, sex, location\",\n",
        "    \"atk\" : \"at the keyboard\",\n",
        "    \"ave.\" : \"avenue\",\n",
        "    \"aymm\" : \"are you my mother\",\n",
        "    \"ayor\" : \"at your own risk\", \n",
        "    \"b&b\" : \"bed and breakfast\",\n",
        "    \"b+b\" : \"bed and breakfast\",\n",
        "    \"b.c\" : \"before christ\",\n",
        "    \"b2b\" : \"business to business\",\n",
        "    \"b2c\" : \"business to customer\",\n",
        "    \"b4\" : \"before\",\n",
        "    \"b4n\" : \"bye for now\",\n",
        "    \"b@u\" : \"back at you\",\n",
        "    \"bae\" : \"before anyone else\",\n",
        "    \"bak\" : \"back at keyboard\",\n",
        "    \"bbbg\" : \"bye bye be good\",\n",
        "    \"bbc\" : \"british broadcasting corporation\",\n",
        "    \"bbias\" : \"be back in a second\",\n",
        "    \"bbl\" : \"be back later\",\n",
        "    \"bbs\" : \"be back soon\",\n",
        "    \"be4\" : \"before\",\n",
        "    \"bfn\" : \"bye for now\",\n",
        "    \"blvd\" : \"boulevard\",\n",
        "    \"bout\" : \"about\",\n",
        "    \"brb\" : \"be right back\",\n",
        "    \"bros\" : \"brothers\",\n",
        "    \"brt\" : \"be right there\",\n",
        "    \"bsaaw\" : \"big smile and a wink\",\n",
        "    \"btw\" : \"by the way\",\n",
        "    \"bwl\" : \"bursting with laughter\",\n",
        "    \"c/o\" : \"care of\",\n",
        "    \"cet\" : \"central european time\",\n",
        "    \"cf\" : \"compare\",\n",
        "    \"cia\" : \"central intelligence agency\",\n",
        "    \"csl\" : \"can not stop laughing\",\n",
        "    \"cu\" : \"see you\",\n",
        "    \"cul8r\" : \"see you later\",\n",
        "    \"cv\" : \"curriculum vitae\",\n",
        "    \"cwot\" : \"complete waste of time\",\n",
        "    \"cya\" : \"see you\",\n",
        "    \"cyt\" : \"see you tomorrow\",\n",
        "    \"dae\" : \"does anyone else\",\n",
        "    \"dbmib\" : \"do not bother me i am busy\",\n",
        "    \"diy\" : \"do it yourself\",\n",
        "    \"dm\" : \"direct message\",\n",
        "    \"dwh\" : \"during work hours\",\n",
        "    \"e123\" : \"easy as one two three\",\n",
        "    \"eet\" : \"eastern european time\",\n",
        "    \"eg\" : \"example\",\n",
        "    \"embm\" : \"early morning business meeting\",\n",
        "    \"encl\" : \"enclosed\",\n",
        "    \"encl.\" : \"enclosed\",\n",
        "    \"etc\" : \"and so on\",\n",
        "    \"faq\" : \"frequently asked questions\",\n",
        "    \"fawc\" : \"for anyone who cares\",\n",
        "    \"fb\" : \"facebook\",\n",
        "    \"fc\" : \"fingers crossed\",\n",
        "    \"fig\" : \"figure\",\n",
        "    \"fimh\" : \"forever in my heart\", \n",
        "    \"ft.\" : \"feet\",\n",
        "    \"ft\" : \"featuring\",\n",
        "    \"ftl\" : \"for the loss\",\n",
        "    \"ftw\" : \"for the win\",\n",
        "    \"fwiw\" : \"for what it is worth\",\n",
        "    \"fyi\" : \"for your information\",\n",
        "    \"g9\" : \"genius\",\n",
        "    \"gahoy\" : \"get a hold of yourself\",\n",
        "    \"gal\" : \"get a life\",\n",
        "    \"gcse\" : \"general certificate of secondary education\",\n",
        "    \"gfn\" : \"gone for now\",\n",
        "    \"gg\" : \"good game\",\n",
        "    \"gl\" : \"good luck\",\n",
        "    \"gmt\" : \"greenwich mean time\",\n",
        "    \"gmta\" : \"great minds think alike\",\n",
        "    \"gn\" : \"good night\",\n",
        "    \"g.o.a.t\" : \"greatest of all time\",\n",
        "    \"goat\" : \"greatest of all time\",\n",
        "    \"goi\" : \"get over it\",\n",
        "    \"gps\" : \"global positioning system\",\n",
        "    \"gr8\" : \"great\",\n",
        "    \"gratz\" : \"congratulations\",\n",
        "    \"gyal\" : \"girl\",\n",
        "    \"h&c\" : \"hot and cold\",\n",
        "    \"hp\" : \"horsepower\",\n",
        "    \"hr\" : \"hour\",\n",
        "    \"hrh\" : \"his royal highness\",\n",
        "    \"ht\" : \"height\",\n",
        "    \"ibrb\" : \"i will be right back\",\n",
        "    \"ic\" : \"i see\",\n",
        "    \"icq\" : \"i seek you\",\n",
        "    \"icymi\" : \"in case you missed it\",\n",
        "    \"idc\" : \"i do not care\",\n",
        "    \"idgadf\" : \"i do not give a damn fuck\",\n",
        "    \"idgaf\" : \"i do not give a fuck\",\n",
        "    \"idk\" : \"i do not know\",\n",
        "    \"ie\" : \"that is\",\n",
        "    \"i.e\" : \"that is\",\n",
        "    \"ifyp\" : \"i feel your pain\",\n",
        "    \"IG\" : \"instagram\",\n",
        "    \"iirc\" : \"if i remember correctly\",\n",
        "    \"ilu\" : \"i love you\",\n",
        "    \"ily\" : \"i love you\",\n",
        "    \"imho\" : \"in my humble opinion\",\n",
        "    \"imo\" : \"in my opinion\",\n",
        "    \"imu\" : \"i miss you\",\n",
        "    \"iow\" : \"in other words\",\n",
        "    \"irl\" : \"in real life\",\n",
        "    \"j4f\" : \"just for fun\",\n",
        "    \"jic\" : \"just in case\",\n",
        "    \"jk\" : \"just kidding\",\n",
        "    \"jsyk\" : \"just so you know\",\n",
        "    \"l8r\" : \"later\",\n",
        "    \"lb\" : \"pound\",\n",
        "    \"lbs\" : \"pounds\",\n",
        "    \"ldr\" : \"long distance relationship\",\n",
        "    \"lmao\" : \"laugh my ass off\",\n",
        "    \"lmfao\" : \"laugh my fucking ass off\",\n",
        "    \"lol\" : \"laughing out loud\",\n",
        "    \"ltd\" : \"limited\",\n",
        "    \"ltns\" : \"long time no see\",\n",
        "    \"m8\" : \"mate\",\n",
        "    \"mf\" : \"motherfucker\",\n",
        "    \"mfs\" : \"motherfuckers\",\n",
        "    \"mfw\" : \"my face when\",\n",
        "    \"mofo\" : \"motherfucker\",\n",
        "    \"mph\" : \"miles per hour\",\n",
        "    \"mr\" : \"mister\",\n",
        "    \"mrw\" : \"my reaction when\",\n",
        "    \"ms\" : \"miss\",\n",
        "    \"mte\" : \"my thoughts exactly\",\n",
        "    \"nagi\" : \"not a good idea\",\n",
        "    \"nbc\" : \"national broadcasting company\",\n",
        "    \"nbd\" : \"not big deal\",\n",
        "    \"nfs\" : \"not for sale\",\n",
        "    \"ngl\" : \"not going to lie\",\n",
        "    \"nhs\" : \"national health service\",\n",
        "    \"nrn\" : \"no reply necessary\",\n",
        "    \"nsfl\" : \"not safe for life\",\n",
        "    \"nsfw\" : \"not safe for work\",\n",
        "    \"nth\" : \"nice to have\",\n",
        "    \"nvr\" : \"never\",\n",
        "    \"nyc\" : \"new york city\",\n",
        "    \"oc\" : \"original content\",\n",
        "    \"og\" : \"original\",\n",
        "    \"ohp\" : \"overhead projector\",\n",
        "    \"oic\" : \"oh i see\",\n",
        "    \"omdb\" : \"over my dead body\",\n",
        "    \"omg\" : \"oh my god\",\n",
        "    \"omw\" : \"on my way\",\n",
        "    \"p.a\" : \"per annum\",\n",
        "    \"p.m\" : \"after midday\",\n",
        "    \"pm\" : \"after midday\",\n",
        "    \"poc\" : \"people of color\",\n",
        "    \"pov\" : \"point of view\",\n",
        "    \"pp\" : \"pages\",\n",
        "    \"ppl\" : \"people\",\n",
        "    \"prw\" : \"parents are watching\",\n",
        "    \"ps\" : \"postscript\",\n",
        "    \"pt\" : \"point\",\n",
        "    \"ptb\" : \"please text back\",\n",
        "    \"pto\" : \"please turn over\",\n",
        "    \"qpsa\" : \"what happens\", #\"que pasa\",\n",
        "    \"ratchet\" : \"rude\",\n",
        "    \"rbtl\" : \"read between the lines\",\n",
        "    \"rlrt\" : \"real life retweet\", \n",
        "    \"rofl\" : \"rolling on the floor laughing\",\n",
        "    \"roflol\" : \"rolling on the floor laughing out loud\",\n",
        "    \"rotflmao\" : \"rolling on the floor laughing my ass off\",\n",
        "    \"rt\" : \"retweet\",\n",
        "    \"ruok\" : \"are you ok\",\n",
        "    \"sfw\" : \"safe for work\",\n",
        "    \"sk8\" : \"skate\",\n",
        "    \"smh\" : \"shake my head\",\n",
        "    \"sq\" : \"square\",\n",
        "    \"srsly\" : \"seriously\", \n",
        "    \"ssdd\" : \"same stuff different day\",\n",
        "    \"tbh\" : \"to be honest\",\n",
        "    \"tbs\" : \"tablespooful\",\n",
        "    \"tbsp\" : \"tablespooful\",\n",
        "    \"tfw\" : \"that feeling when\",\n",
        "    \"thks\" : \"thank you\",\n",
        "    \"tho\" : \"though\",\n",
        "    \"thx\" : \"thank you\",\n",
        "    \"tia\" : \"thanks in advance\",\n",
        "    \"til\" : \"today i learned\",\n",
        "    \"tl;dr\" : \"too long i did not read\",\n",
        "    \"tldr\" : \"too long i did not read\",\n",
        "    \"tmb\" : \"tweet me back\",\n",
        "    \"tntl\" : \"trying not to laugh\",\n",
        "    \"ttyl\" : \"talk to you later\",\n",
        "    \"u\" : \"you\",\n",
        "    \"u2\" : \"you too\",\n",
        "    \"u4e\" : \"yours for ever\",\n",
        "    \"utc\" : \"coordinated universal time\",\n",
        "    \"w/\" : \"with\",\n",
        "    \"w/o\" : \"without\",\n",
        "    \"w8\" : \"wait\",\n",
        "    \"wassup\" : \"what is up\",\n",
        "    \"wb\" : \"welcome back\",\n",
        "    \"wtf\" : \"what the fuck\",\n",
        "    \"wtg\" : \"way to go\",\n",
        "    \"wtpa\" : \"where the party at\",\n",
        "    \"wuf\" : \"where are you from\",\n",
        "    \"wuzup\" : \"what is up\",\n",
        "    \"wywh\" : \"wish you were here\",\n",
        "    \"yd\" : \"yard\",\n",
        "    \"ygtr\" : \"you got that right\",\n",
        "    \"ynk\" : \"you never know\",\n",
        "    \"zzz\" : \"sleeping bored and tired\"\n",
        "}"
      ],
      "execution_count": null,
      "outputs": []
    },
    {
      "cell_type": "code",
      "metadata": {
        "id": "3UK6JJ20P1SD"
      },
      "source": [
        "def fix_slangs(text):\n",
        "  #first of all we need to change our text to lowercase to match the abbreviations, otherwise some words won't be changed\n",
        "  #eg: NYC\n",
        "    text = text.lower()\n",
        "    sentence_list = text.split()\n",
        "    new_sentence = []\n",
        "    \n",
        "    for word in sentence_list:\n",
        "        for candidate_replacement in abbreviations:\n",
        "            if (candidate_replacement == word):\n",
        "                word = word.replace(candidate_replacement, abbreviations[candidate_replacement])\n",
        "        new_sentence.append(word) \n",
        "  \n",
        "    return (\" \".join(new_sentence))"
      ],
      "execution_count": null,
      "outputs": []
    },
    {
      "cell_type": "code",
      "metadata": {
        "id": "ftQMmWi7P-Hu"
      },
      "source": [
        "def preprocessing (df):\n",
        "    \n",
        "    df['text'] = df['text'].apply(decontracted)\n",
        "    df['text'] = df['text'].apply(remove_stop_words)\n",
        "    df['text'] = df['text'].apply(remove_emojis)\n",
        "    df['text'] = df['text'].apply(remove_html_tags)\n",
        "    df['text'] = df['text'].apply(remove_urls)\n",
        "    df['text'] = df['text'].apply(remove_punctuation)\n",
        "    df['text'] = df['text'].apply(fix_slangs)\n",
        "    \n",
        "    return df"
      ],
      "execution_count": null,
      "outputs": []
    },
    {
      "cell_type": "code",
      "metadata": {
        "colab": {
          "base_uri": "https://localhost:8080/",
          "height": 235
        },
        "id": "9QmcWLPcQHHv",
        "outputId": "16c81a22-cdb9-412c-e85c-dc1353af30c5"
      },
      "source": [
        "df = preprocessing(df)\n",
        "df.head()"
      ],
      "execution_count": null,
      "outputs": [
        {
          "output_type": "execute_result",
          "data": {
            "text/html": [
              "<div>\n",
              "<style scoped>\n",
              "    .dataframe tbody tr th:only-of-type {\n",
              "        vertical-align: middle;\n",
              "    }\n",
              "\n",
              "    .dataframe tbody tr th {\n",
              "        vertical-align: top;\n",
              "    }\n",
              "\n",
              "    .dataframe thead th {\n",
              "        text-align: right;\n",
              "    }\n",
              "</style>\n",
              "<table border=\"1\" class=\"dataframe\">\n",
              "  <thead>\n",
              "    <tr style=\"text-align: right;\">\n",
              "      <th></th>\n",
              "      <th>text</th>\n",
              "      <th>target</th>\n",
              "    </tr>\n",
              "    <tr>\n",
              "      <th>id</th>\n",
              "      <th></th>\n",
              "      <th></th>\n",
              "    </tr>\n",
              "  </thead>\n",
              "  <tbody>\n",
              "    <tr>\n",
              "      <th>1</th>\n",
              "      <td>deeds reason earthquake may allah forgive us</td>\n",
              "      <td>1</td>\n",
              "    </tr>\n",
              "    <tr>\n",
              "      <th>4</th>\n",
              "      <td>forest fire near la ronge sask canada</td>\n",
              "      <td>1</td>\n",
              "    </tr>\n",
              "    <tr>\n",
              "      <th>5</th>\n",
              "      <td>residents asked ishelter place notified office...</td>\n",
              "      <td>1</td>\n",
              "    </tr>\n",
              "    <tr>\n",
              "      <th>6</th>\n",
              "      <td>13 000 people receive wildfires evacuation ord...</td>\n",
              "      <td>1</td>\n",
              "    </tr>\n",
              "    <tr>\n",
              "      <th>7</th>\n",
              "      <td>got sent photo ruby alaska smoke wildfires pou...</td>\n",
              "      <td>1</td>\n",
              "    </tr>\n",
              "  </tbody>\n",
              "</table>\n",
              "</div>"
            ],
            "text/plain": [
              "                                                 text  target\n",
              "id                                                           \n",
              "1        deeds reason earthquake may allah forgive us       1\n",
              "4               forest fire near la ronge sask canada       1\n",
              "5   residents asked ishelter place notified office...       1\n",
              "6   13 000 people receive wildfires evacuation ord...       1\n",
              "7   got sent photo ruby alaska smoke wildfires pou...       1"
            ]
          },
          "metadata": {
            "tags": []
          },
          "execution_count": 266
        }
      ]
    },
    {
      "cell_type": "code",
      "metadata": {
        "id": "kvi9VWT1z89x"
      },
      "source": [
        "df_test=pd.read_csv('/content/test.csv')\n",
        "test_id=df_test['id'].values\n",
        "df_test=pd.read_csv('/content/test.csv',index_col='id')\n",
        "df_T=df_test.drop(['location','keyword'],axis=1)"
      ],
      "execution_count": null,
      "outputs": []
    },
    {
      "cell_type": "code",
      "metadata": {
        "colab": {
          "base_uri": "https://localhost:8080/",
          "height": 235
        },
        "id": "Qsg1aZgb0JC9",
        "outputId": "b7e4f64a-fe69-4de0-b862-7fa0f43ae503"
      },
      "source": [
        "df_T.head()"
      ],
      "execution_count": null,
      "outputs": [
        {
          "output_type": "execute_result",
          "data": {
            "text/html": [
              "<div>\n",
              "<style scoped>\n",
              "    .dataframe tbody tr th:only-of-type {\n",
              "        vertical-align: middle;\n",
              "    }\n",
              "\n",
              "    .dataframe tbody tr th {\n",
              "        vertical-align: top;\n",
              "    }\n",
              "\n",
              "    .dataframe thead th {\n",
              "        text-align: right;\n",
              "    }\n",
              "</style>\n",
              "<table border=\"1\" class=\"dataframe\">\n",
              "  <thead>\n",
              "    <tr style=\"text-align: right;\">\n",
              "      <th></th>\n",
              "      <th>text</th>\n",
              "    </tr>\n",
              "    <tr>\n",
              "      <th>id</th>\n",
              "      <th></th>\n",
              "    </tr>\n",
              "  </thead>\n",
              "  <tbody>\n",
              "    <tr>\n",
              "      <th>0</th>\n",
              "      <td>Just happened a terrible car crash</td>\n",
              "    </tr>\n",
              "    <tr>\n",
              "      <th>2</th>\n",
              "      <td>Heard about #earthquake is different cities, s...</td>\n",
              "    </tr>\n",
              "    <tr>\n",
              "      <th>3</th>\n",
              "      <td>there is a forest fire at spot pond, geese are...</td>\n",
              "    </tr>\n",
              "    <tr>\n",
              "      <th>9</th>\n",
              "      <td>Apocalypse lighting. #Spokane #wildfires</td>\n",
              "    </tr>\n",
              "    <tr>\n",
              "      <th>11</th>\n",
              "      <td>Typhoon Soudelor kills 28 in China and Taiwan</td>\n",
              "    </tr>\n",
              "  </tbody>\n",
              "</table>\n",
              "</div>"
            ],
            "text/plain": [
              "                                                 text\n",
              "id                                                   \n",
              "0                  Just happened a terrible car crash\n",
              "2   Heard about #earthquake is different cities, s...\n",
              "3   there is a forest fire at spot pond, geese are...\n",
              "9            Apocalypse lighting. #Spokane #wildfires\n",
              "11      Typhoon Soudelor kills 28 in China and Taiwan"
            ]
          },
          "metadata": {
            "tags": []
          },
          "execution_count": 262
        }
      ]
    },
    {
      "cell_type": "code",
      "metadata": {
        "colab": {
          "base_uri": "https://localhost:8080/",
          "height": 235
        },
        "id": "Nrdpo0ua0Pcj",
        "outputId": "e0b86129-8823-4ec6-b8d1-bbb8b80ce3fe"
      },
      "source": [
        "df_T = preprocessing(df_T)\n",
        "df_T.head()"
      ],
      "execution_count": null,
      "outputs": [
        {
          "output_type": "execute_result",
          "data": {
            "text/html": [
              "<div>\n",
              "<style scoped>\n",
              "    .dataframe tbody tr th:only-of-type {\n",
              "        vertical-align: middle;\n",
              "    }\n",
              "\n",
              "    .dataframe tbody tr th {\n",
              "        vertical-align: top;\n",
              "    }\n",
              "\n",
              "    .dataframe thead th {\n",
              "        text-align: right;\n",
              "    }\n",
              "</style>\n",
              "<table border=\"1\" class=\"dataframe\">\n",
              "  <thead>\n",
              "    <tr style=\"text-align: right;\">\n",
              "      <th></th>\n",
              "      <th>text</th>\n",
              "    </tr>\n",
              "    <tr>\n",
              "      <th>id</th>\n",
              "      <th></th>\n",
              "    </tr>\n",
              "  </thead>\n",
              "  <tbody>\n",
              "    <tr>\n",
              "      <th>0</th>\n",
              "      <td>happened terrible car crash</td>\n",
              "    </tr>\n",
              "    <tr>\n",
              "      <th>2</th>\n",
              "      <td>heard earthquake different cities stay safe ev...</td>\n",
              "    </tr>\n",
              "    <tr>\n",
              "      <th>3</th>\n",
              "      <td>forest fire spot pond geese fleeing across str...</td>\n",
              "    </tr>\n",
              "    <tr>\n",
              "      <th>9</th>\n",
              "      <td>apocalypse lighting spokane wildfires</td>\n",
              "    </tr>\n",
              "    <tr>\n",
              "      <th>11</th>\n",
              "      <td>typhoon soudelor kills 28 china taiwan</td>\n",
              "    </tr>\n",
              "  </tbody>\n",
              "</table>\n",
              "</div>"
            ],
            "text/plain": [
              "                                                 text\n",
              "id                                                   \n",
              "0                         happened terrible car crash\n",
              "2   heard earthquake different cities stay safe ev...\n",
              "3   forest fire spot pond geese fleeing across str...\n",
              "9               apocalypse lighting spokane wildfires\n",
              "11             typhoon soudelor kills 28 china taiwan"
            ]
          },
          "metadata": {
            "tags": []
          },
          "execution_count": 263
        }
      ]
    },
    {
      "cell_type": "code",
      "metadata": {
        "id": "zunvLEJxQJ3q"
      },
      "source": [
        "def vocab_maxlen_X_pad(df_train,df_test):\n",
        "  X_train=df_train['text'].values\n",
        "  X_test=df_test['text'].values\n",
        "  total_tweets = np.concatenate((X_train, X_test))\n",
        "\n",
        "  tokenizer=Tokenizer()\n",
        "  tokenizer.fit_on_texts(total_tweets)\n",
        "  vocab_size=len(tokenizer.word_index)+1\n",
        "  maxlen=max(len(x.split()) for x in total_tweets)\n",
        "  X_train_token = tokenizer.texts_to_sequences(X_train)\n",
        "  X_test_token = tokenizer.texts_to_sequences(X_test)\n",
        "  X_pad_train=pad_sequences(X_train_token,maxlen=maxlen,padding='post')\n",
        "  X_pad_test=pad_sequences(X_test_token,maxlen=maxlen,padding='post')\n",
        "  return vocab_size,maxlen,X_pad_train,X_pad_test"
      ],
      "execution_count": null,
      "outputs": []
    },
    {
      "cell_type": "code",
      "metadata": {
        "id": "qBHthi1W3wm1"
      },
      "source": [
        "from sklearn.feature_extraction.text import TfidfVectorizer\n",
        "def tf_idf(df):\n",
        "  vectorizer = TfidfVectorizer()\n",
        "  X=vectorizer.fit_transform(df['text'].values)\n",
        "  return X\n",
        "X_pad_train=tf_idf(df)"
      ],
      "execution_count": null,
      "outputs": []
    },
    {
      "cell_type": "code",
      "metadata": {
        "colab": {
          "base_uri": "https://localhost:8080/"
        },
        "id": "PLYx1Ghq4ehU",
        "outputId": "6e54b812-5511-4edf-92a0-ee5e484d7c2e"
      },
      "source": [
        "X_pad_train.shape"
      ],
      "execution_count": null,
      "outputs": [
        {
          "output_type": "execute_result",
          "data": {
            "text/plain": [
              "(7613, 17023)"
            ]
          },
          "metadata": {
            "tags": []
          },
          "execution_count": 204
        }
      ]
    },
    {
      "cell_type": "code",
      "metadata": {
        "colab": {
          "base_uri": "https://localhost:8080/"
        },
        "id": "W6w1BcdR9VL0",
        "outputId": "04eadb98-fc2b-4925-d781-4daa4a8eb9aa"
      },
      "source": [
        "vocab_size,maxlen,X_pad_train,X_pad_test=vocab_maxlen_X_pad(df_train=df,df_test=df_T)\n",
        "print (vocab_size,maxlen,X_pad_train.shape,X_pad_test.shape)"
      ],
      "execution_count": null,
      "outputs": [
        {
          "output_type": "stream",
          "text": [
            "21389 28 (7613, 28) (3263, 28)\n"
          ],
          "name": "stdout"
        }
      ]
    },
    {
      "cell_type": "code",
      "metadata": {
        "id": "hwEokJY_Uh-o"
      },
      "source": [
        "y=df['target'].values"
      ],
      "execution_count": null,
      "outputs": []
    },
    {
      "cell_type": "code",
      "metadata": {
        "colab": {
          "base_uri": "https://localhost:8080/"
        },
        "id": "o_wnD_DmUzC8",
        "outputId": "747a8fb1-1b92-4d38-f014-5c713e8bcfde"
      },
      "source": [
        "y"
      ],
      "execution_count": null,
      "outputs": [
        {
          "output_type": "execute_result",
          "data": {
            "text/plain": [
              "array([1, 1, 1, ..., 1, 1, 1])"
            ]
          },
          "metadata": {
            "tags": []
          },
          "execution_count": 271
        }
      ]
    },
    {
      "cell_type": "code",
      "metadata": {
        "id": "XXOkaROyYSm_"
      },
      "source": [
        "# Test train split \n",
        "X_train, X_test, y_train, y_test = train_test_split(X_pad_train, y, test_size = 0.1, random_state = 42)"
      ],
      "execution_count": null,
      "outputs": []
    },
    {
      "cell_type": "code",
      "metadata": {
        "id": "JNBfyaxyYy-G"
      },
      "source": [
        "import keras.backend as K\n",
        "def get_f1(y_true, y_pred): #taken from old keras source code\n",
        "    true_positives = K.sum(K.round(K.clip(y_true * y_pred, 0, 1)))\n",
        "    possible_positives = K.sum(K.round(K.clip(y_true, 0, 1)))\n",
        "    predicted_positives = K.sum(K.round(K.clip(y_pred, 0, 1)))\n",
        "    precision = true_positives / (predicted_positives + K.epsilon())\n",
        "    recall = true_positives / (possible_positives + K.epsilon())\n",
        "    f1_val = 2*(precision*recall)/(precision+recall+K.epsilon())\n",
        "    return f1_val"
      ],
      "execution_count": null,
      "outputs": []
    },
    {
      "cell_type": "code",
      "metadata": {
        "colab": {
          "base_uri": "https://localhost:8080/"
        },
        "id": "EQHXo3CdU0Yj",
        "outputId": "37aeb68f-a2e5-457e-b43c-a002c417f6ad"
      },
      "source": [
        "import keras\n",
        "import keras.layers as L\n",
        "model = tf.keras.Sequential()\n",
        "model.add(L.Embedding(vocab_size, 100, input_length=maxlen))\n",
        "model.add(L.Conv1D(filters=32, kernel_size=8, activation='relu'))\n",
        "model.add(L.MaxPooling1D(pool_size=3))\n",
        "model.add(L.Dropout(0.3))\n",
        "#model.add(L.Conv1D(filters=64, kernel_size=8, activation='relu'))\n",
        "#model.add(L.MaxPooling1D(pool_size=2))\n",
        "#model.add(L.Dropout(0.3))\n",
        "model.add(L.Flatten())\n",
        "model.add(L.Dense(10, activation='relu'))\n",
        "model.add(L.Dense(1, activation='sigmoid'))\n",
        "model.summary()"
      ],
      "execution_count": null,
      "outputs": [
        {
          "output_type": "stream",
          "text": [
            "Model: \"sequential_35\"\n",
            "_________________________________________________________________\n",
            "Layer (type)                 Output Shape              Param #   \n",
            "=================================================================\n",
            "embedding_30 (Embedding)     (None, 28, 100)           2138900   \n",
            "_________________________________________________________________\n",
            "conv1d_12 (Conv1D)           (None, 21, 32)            25632     \n",
            "_________________________________________________________________\n",
            "max_pooling1d_11 (MaxPooling (None, 7, 32)             0         \n",
            "_________________________________________________________________\n",
            "dropout_21 (Dropout)         (None, 7, 32)             0         \n",
            "_________________________________________________________________\n",
            "flatten_19 (Flatten)         (None, 224)               0         \n",
            "_________________________________________________________________\n",
            "dense_54 (Dense)             (None, 10)                2250      \n",
            "_________________________________________________________________\n",
            "dense_55 (Dense)             (None, 1)                 11        \n",
            "=================================================================\n",
            "Total params: 2,166,793\n",
            "Trainable params: 2,166,793\n",
            "Non-trainable params: 0\n",
            "_________________________________________________________________\n"
          ],
          "name": "stdout"
        }
      ]
    },
    {
      "cell_type": "code",
      "metadata": {
        "id": "P6DZxK9yAb4U"
      },
      "source": [
        "learning_rate=0.0001\n",
        "model.compile(loss='binary_crossentropy',optimizer=tf.keras.optimizers.Adamax(lr=learning_rate),metrics=[get_f1,'accuracy'])"
      ],
      "execution_count": null,
      "outputs": []
    },
    {
      "cell_type": "code",
      "metadata": {
        "colab": {
          "base_uri": "https://localhost:8080/"
        },
        "id": "L6qyp8asZIPc",
        "outputId": "4f8b682f-2ca5-4777-aeac-33888b5f4849"
      },
      "source": [
        "history = model.fit(X_train, y_train,\n",
        "epochs=100,\n",
        "batch_size=128,\n",
        "validation_data=(X_test,y_test))"
      ],
      "execution_count": null,
      "outputs": [
        {
          "output_type": "stream",
          "text": [
            "Epoch 1/100\n",
            "54/54 [==============================] - 2s 28ms/step - loss: 0.6892 - get_f1: 0.1009 - accuracy: 0.5646 - val_loss: 0.6856 - val_get_f1: 0.0000e+00 - val_accuracy: 0.5591\n",
            "Epoch 2/100\n",
            "54/54 [==============================] - 1s 24ms/step - loss: 0.6836 - get_f1: 8.2310e-04 - accuracy: 0.5722 - val_loss: 0.6826 - val_get_f1: 0.0000e+00 - val_accuracy: 0.5591\n",
            "Epoch 3/100\n",
            "54/54 [==============================] - 1s 24ms/step - loss: 0.6810 - get_f1: 0.0000e+00 - accuracy: 0.5675 - val_loss: 0.6808 - val_get_f1: 0.0000e+00 - val_accuracy: 0.5591\n",
            "Epoch 4/100\n",
            "54/54 [==============================] - 1s 24ms/step - loss: 0.6783 - get_f1: 0.0000e+00 - accuracy: 0.5690 - val_loss: 0.6796 - val_get_f1: 0.0000e+00 - val_accuracy: 0.5591\n",
            "Epoch 5/100\n",
            "54/54 [==============================] - 1s 24ms/step - loss: 0.6751 - get_f1: 8.2736e-04 - accuracy: 0.5769 - val_loss: 0.6786 - val_get_f1: 0.0000e+00 - val_accuracy: 0.5591\n",
            "Epoch 6/100\n",
            "54/54 [==============================] - 1s 23ms/step - loss: 0.6750 - get_f1: 0.0000e+00 - accuracy: 0.5680 - val_loss: 0.6775 - val_get_f1: 0.0000e+00 - val_accuracy: 0.5591\n",
            "Epoch 7/100\n",
            "54/54 [==============================] - 1s 24ms/step - loss: 0.6727 - get_f1: 0.0000e+00 - accuracy: 0.5703 - val_loss: 0.6765 - val_get_f1: 0.0000e+00 - val_accuracy: 0.5591\n",
            "Epoch 8/100\n",
            "54/54 [==============================] - 1s 24ms/step - loss: 0.6700 - get_f1: 1.9597e-04 - accuracy: 0.5757 - val_loss: 0.6752 - val_get_f1: 0.0000e+00 - val_accuracy: 0.5591\n",
            "Epoch 9/100\n",
            "54/54 [==============================] - 1s 24ms/step - loss: 0.6694 - get_f1: 0.0019 - accuracy: 0.5753 - val_loss: 0.6737 - val_get_f1: 0.0000e+00 - val_accuracy: 0.5591\n",
            "Epoch 10/100\n",
            "54/54 [==============================] - 1s 24ms/step - loss: 0.6696 - get_f1: 0.0091 - accuracy: 0.5717 - val_loss: 0.6726 - val_get_f1: 0.0000e+00 - val_accuracy: 0.5591\n",
            "Epoch 11/100\n",
            "54/54 [==============================] - 1s 24ms/step - loss: 0.6695 - get_f1: 0.0126 - accuracy: 0.5644 - val_loss: 0.6714 - val_get_f1: 0.0113 - val_accuracy: 0.5617\n",
            "Epoch 12/100\n",
            "54/54 [==============================] - 1s 24ms/step - loss: 0.6640 - get_f1: 0.0318 - accuracy: 0.5753 - val_loss: 0.6701 - val_get_f1: 0.0181 - val_accuracy: 0.5630\n",
            "Epoch 13/100\n",
            "54/54 [==============================] - 1s 24ms/step - loss: 0.6603 - get_f1: 0.0401 - accuracy: 0.5868 - val_loss: 0.6686 - val_get_f1: 0.0246 - val_accuracy: 0.5643\n",
            "Epoch 14/100\n",
            "54/54 [==============================] - 1s 24ms/step - loss: 0.6617 - get_f1: 0.0539 - accuracy: 0.5847 - val_loss: 0.6670 - val_get_f1: 0.0306 - val_accuracy: 0.5656\n",
            "Epoch 15/100\n",
            "54/54 [==============================] - 1s 24ms/step - loss: 0.6609 - get_f1: 0.0673 - accuracy: 0.5761 - val_loss: 0.6654 - val_get_f1: 0.0523 - val_accuracy: 0.5709\n",
            "Epoch 16/100\n",
            "54/54 [==============================] - 1s 24ms/step - loss: 0.6593 - get_f1: 0.1025 - accuracy: 0.5849 - val_loss: 0.6635 - val_get_f1: 0.0851 - val_accuracy: 0.5787\n",
            "Epoch 17/100\n",
            "54/54 [==============================] - 1s 24ms/step - loss: 0.6517 - get_f1: 0.1050 - accuracy: 0.6001 - val_loss: 0.6613 - val_get_f1: 0.1121 - val_accuracy: 0.5853\n",
            "Epoch 18/100\n",
            "54/54 [==============================] - 1s 24ms/step - loss: 0.6491 - get_f1: 0.1823 - accuracy: 0.6111 - val_loss: 0.6589 - val_get_f1: 0.1394 - val_accuracy: 0.5919\n",
            "Epoch 19/100\n",
            "54/54 [==============================] - 1s 24ms/step - loss: 0.6449 - get_f1: 0.2089 - accuracy: 0.6192 - val_loss: 0.6561 - val_get_f1: 0.2008 - val_accuracy: 0.6089\n",
            "Epoch 20/100\n",
            "54/54 [==============================] - 1s 24ms/step - loss: 0.6438 - get_f1: 0.2559 - accuracy: 0.6284 - val_loss: 0.6531 - val_get_f1: 0.2250 - val_accuracy: 0.6142\n",
            "Epoch 21/100\n",
            "54/54 [==============================] - 1s 24ms/step - loss: 0.6360 - get_f1: 0.3044 - accuracy: 0.6512 - val_loss: 0.6498 - val_get_f1: 0.2680 - val_accuracy: 0.6234\n",
            "Epoch 22/100\n",
            "54/54 [==============================] - 1s 24ms/step - loss: 0.6321 - get_f1: 0.3552 - accuracy: 0.6582 - val_loss: 0.6462 - val_get_f1: 0.3001 - val_accuracy: 0.6312\n",
            "Epoch 23/100\n",
            "54/54 [==============================] - 1s 24ms/step - loss: 0.6278 - get_f1: 0.3944 - accuracy: 0.6729 - val_loss: 0.6421 - val_get_f1: 0.3705 - val_accuracy: 0.6522\n",
            "Epoch 24/100\n",
            "54/54 [==============================] - 1s 24ms/step - loss: 0.6203 - get_f1: 0.4508 - accuracy: 0.6943 - val_loss: 0.6376 - val_get_f1: 0.4022 - val_accuracy: 0.6627\n",
            "Epoch 25/100\n",
            "54/54 [==============================] - 1s 24ms/step - loss: 0.6086 - get_f1: 0.4916 - accuracy: 0.7135 - val_loss: 0.6328 - val_get_f1: 0.4566 - val_accuracy: 0.6811\n",
            "Epoch 26/100\n",
            "54/54 [==============================] - 1s 24ms/step - loss: 0.6093 - get_f1: 0.5365 - accuracy: 0.7182 - val_loss: 0.6279 - val_get_f1: 0.4620 - val_accuracy: 0.6811\n",
            "Epoch 27/100\n",
            "54/54 [==============================] - 1s 24ms/step - loss: 0.5973 - get_f1: 0.5523 - accuracy: 0.7292 - val_loss: 0.6227 - val_get_f1: 0.4982 - val_accuracy: 0.6942\n",
            "Epoch 28/100\n",
            "54/54 [==============================] - 1s 25ms/step - loss: 0.5877 - get_f1: 0.5963 - accuracy: 0.7520 - val_loss: 0.6172 - val_get_f1: 0.5363 - val_accuracy: 0.7087\n",
            "Epoch 29/100\n",
            "54/54 [==============================] - 1s 24ms/step - loss: 0.5824 - get_f1: 0.6068 - accuracy: 0.7552 - val_loss: 0.6115 - val_get_f1: 0.5641 - val_accuracy: 0.7192\n",
            "Epoch 30/100\n",
            "54/54 [==============================] - 1s 24ms/step - loss: 0.5767 - get_f1: 0.6398 - accuracy: 0.7654 - val_loss: 0.6060 - val_get_f1: 0.5615 - val_accuracy: 0.7178\n",
            "Epoch 31/100\n",
            "54/54 [==============================] - 1s 24ms/step - loss: 0.5628 - get_f1: 0.6529 - accuracy: 0.7699 - val_loss: 0.5999 - val_get_f1: 0.5818 - val_accuracy: 0.7218\n",
            "Epoch 32/100\n",
            "54/54 [==============================] - 1s 24ms/step - loss: 0.5583 - get_f1: 0.6616 - accuracy: 0.7700 - val_loss: 0.5941 - val_get_f1: 0.6048 - val_accuracy: 0.7323\n",
            "Epoch 33/100\n",
            "54/54 [==============================] - 1s 24ms/step - loss: 0.5417 - get_f1: 0.6917 - accuracy: 0.7917 - val_loss: 0.5879 - val_get_f1: 0.6145 - val_accuracy: 0.7336\n",
            "Epoch 34/100\n",
            "54/54 [==============================] - 1s 24ms/step - loss: 0.5342 - get_f1: 0.7087 - accuracy: 0.7977 - val_loss: 0.5818 - val_get_f1: 0.6207 - val_accuracy: 0.7336\n",
            "Epoch 35/100\n",
            "54/54 [==============================] - 1s 24ms/step - loss: 0.5216 - get_f1: 0.7201 - accuracy: 0.8054 - val_loss: 0.5757 - val_get_f1: 0.6426 - val_accuracy: 0.7441\n",
            "Epoch 36/100\n",
            "54/54 [==============================] - 1s 25ms/step - loss: 0.5121 - get_f1: 0.7229 - accuracy: 0.8090 - val_loss: 0.5696 - val_get_f1: 0.6447 - val_accuracy: 0.7454\n",
            "Epoch 37/100\n",
            "54/54 [==============================] - 1s 24ms/step - loss: 0.4997 - get_f1: 0.7558 - accuracy: 0.8218 - val_loss: 0.5636 - val_get_f1: 0.6493 - val_accuracy: 0.7454\n",
            "Epoch 38/100\n",
            "54/54 [==============================] - 1s 24ms/step - loss: 0.4870 - get_f1: 0.7585 - accuracy: 0.8244 - val_loss: 0.5578 - val_get_f1: 0.6484 - val_accuracy: 0.7428\n",
            "Epoch 39/100\n",
            "54/54 [==============================] - 1s 24ms/step - loss: 0.4831 - get_f1: 0.7700 - accuracy: 0.8299 - val_loss: 0.5523 - val_get_f1: 0.6525 - val_accuracy: 0.7415\n",
            "Epoch 40/100\n",
            "54/54 [==============================] - 1s 24ms/step - loss: 0.4692 - get_f1: 0.7588 - accuracy: 0.8271 - val_loss: 0.5469 - val_get_f1: 0.6662 - val_accuracy: 0.7467\n",
            "Epoch 41/100\n",
            "54/54 [==============================] - 1s 24ms/step - loss: 0.4539 - get_f1: 0.7869 - accuracy: 0.8413 - val_loss: 0.5421 - val_get_f1: 0.6826 - val_accuracy: 0.7533\n",
            "Epoch 42/100\n",
            "54/54 [==============================] - 1s 24ms/step - loss: 0.4437 - get_f1: 0.7845 - accuracy: 0.8402 - val_loss: 0.5377 - val_get_f1: 0.6886 - val_accuracy: 0.7559\n",
            "Epoch 43/100\n",
            "54/54 [==============================] - 1s 24ms/step - loss: 0.4379 - get_f1: 0.7992 - accuracy: 0.8455 - val_loss: 0.5339 - val_get_f1: 0.6886 - val_accuracy: 0.7572\n",
            "Epoch 44/100\n",
            "54/54 [==============================] - 1s 24ms/step - loss: 0.4242 - get_f1: 0.8035 - accuracy: 0.8501 - val_loss: 0.5303 - val_get_f1: 0.6884 - val_accuracy: 0.7533\n",
            "Epoch 45/100\n",
            "54/54 [==============================] - 1s 24ms/step - loss: 0.4192 - get_f1: 0.7987 - accuracy: 0.8457 - val_loss: 0.5274 - val_get_f1: 0.6904 - val_accuracy: 0.7546\n",
            "Epoch 46/100\n",
            "54/54 [==============================] - 1s 24ms/step - loss: 0.4033 - get_f1: 0.8230 - accuracy: 0.8607 - val_loss: 0.5246 - val_get_f1: 0.6978 - val_accuracy: 0.7585\n",
            "Epoch 47/100\n",
            "54/54 [==============================] - 1s 24ms/step - loss: 0.3994 - get_f1: 0.8134 - accuracy: 0.8549 - val_loss: 0.5224 - val_get_f1: 0.7022 - val_accuracy: 0.7612\n",
            "Epoch 48/100\n",
            "54/54 [==============================] - 1s 24ms/step - loss: 0.3840 - get_f1: 0.8251 - accuracy: 0.8626 - val_loss: 0.5209 - val_get_f1: 0.7048 - val_accuracy: 0.7598\n",
            "Epoch 49/100\n",
            "54/54 [==============================] - 1s 24ms/step - loss: 0.3813 - get_f1: 0.8207 - accuracy: 0.8583 - val_loss: 0.5197 - val_get_f1: 0.7024 - val_accuracy: 0.7612\n",
            "Epoch 50/100\n",
            "54/54 [==============================] - 1s 24ms/step - loss: 0.3723 - get_f1: 0.8246 - accuracy: 0.8628 - val_loss: 0.5187 - val_get_f1: 0.7033 - val_accuracy: 0.7598\n",
            "Epoch 51/100\n",
            "54/54 [==============================] - 1s 24ms/step - loss: 0.3580 - get_f1: 0.8367 - accuracy: 0.8708 - val_loss: 0.5181 - val_get_f1: 0.7051 - val_accuracy: 0.7598\n",
            "Epoch 52/100\n",
            "54/54 [==============================] - 1s 24ms/step - loss: 0.3613 - get_f1: 0.8328 - accuracy: 0.8658 - val_loss: 0.5178 - val_get_f1: 0.7051 - val_accuracy: 0.7612\n",
            "Epoch 53/100\n",
            "54/54 [==============================] - 1s 24ms/step - loss: 0.3484 - get_f1: 0.8421 - accuracy: 0.8730 - val_loss: 0.5178 - val_get_f1: 0.7082 - val_accuracy: 0.7638\n",
            "Epoch 54/100\n",
            "54/54 [==============================] - 1s 24ms/step - loss: 0.3408 - get_f1: 0.8440 - accuracy: 0.8759 - val_loss: 0.5180 - val_get_f1: 0.7112 - val_accuracy: 0.7651\n",
            "Epoch 55/100\n",
            "54/54 [==============================] - 1s 24ms/step - loss: 0.3389 - get_f1: 0.8406 - accuracy: 0.8718 - val_loss: 0.5185 - val_get_f1: 0.7112 - val_accuracy: 0.7651\n",
            "Epoch 56/100\n",
            "54/54 [==============================] - 1s 24ms/step - loss: 0.3280 - get_f1: 0.8471 - accuracy: 0.8771 - val_loss: 0.5191 - val_get_f1: 0.7156 - val_accuracy: 0.7677\n",
            "Epoch 57/100\n",
            "54/54 [==============================] - 1s 25ms/step - loss: 0.3284 - get_f1: 0.8505 - accuracy: 0.8779 - val_loss: 0.5199 - val_get_f1: 0.7132 - val_accuracy: 0.7651\n",
            "Epoch 58/100\n",
            "54/54 [==============================] - 1s 25ms/step - loss: 0.3166 - get_f1: 0.8552 - accuracy: 0.8839 - val_loss: 0.5209 - val_get_f1: 0.7194 - val_accuracy: 0.7690\n",
            "Epoch 59/100\n",
            "54/54 [==============================] - 1s 25ms/step - loss: 0.3046 - get_f1: 0.8578 - accuracy: 0.8870 - val_loss: 0.5219 - val_get_f1: 0.7172 - val_accuracy: 0.7664\n",
            "Epoch 60/100\n",
            "54/54 [==============================] - 1s 25ms/step - loss: 0.2983 - get_f1: 0.8642 - accuracy: 0.8919 - val_loss: 0.5232 - val_get_f1: 0.7161 - val_accuracy: 0.7651\n",
            "Epoch 61/100\n",
            "54/54 [==============================] - 1s 24ms/step - loss: 0.3067 - get_f1: 0.8577 - accuracy: 0.8844 - val_loss: 0.5245 - val_get_f1: 0.7152 - val_accuracy: 0.7651\n",
            "Epoch 62/100\n",
            "54/54 [==============================] - 1s 24ms/step - loss: 0.2891 - get_f1: 0.8675 - accuracy: 0.8932 - val_loss: 0.5262 - val_get_f1: 0.7153 - val_accuracy: 0.7651\n",
            "Epoch 63/100\n",
            "54/54 [==============================] - 1s 24ms/step - loss: 0.2890 - get_f1: 0.8669 - accuracy: 0.8928 - val_loss: 0.5275 - val_get_f1: 0.7107 - val_accuracy: 0.7598\n",
            "Epoch 64/100\n",
            "54/54 [==============================] - 1s 24ms/step - loss: 0.2926 - get_f1: 0.8653 - accuracy: 0.8934 - val_loss: 0.5291 - val_get_f1: 0.7143 - val_accuracy: 0.7638\n",
            "Epoch 65/100\n",
            "54/54 [==============================] - 1s 24ms/step - loss: 0.2851 - get_f1: 0.8670 - accuracy: 0.8912 - val_loss: 0.5306 - val_get_f1: 0.7133 - val_accuracy: 0.7638\n",
            "Epoch 66/100\n",
            "54/54 [==============================] - 1s 24ms/step - loss: 0.2784 - get_f1: 0.8742 - accuracy: 0.8983 - val_loss: 0.5325 - val_get_f1: 0.7128 - val_accuracy: 0.7612\n",
            "Epoch 67/100\n",
            "54/54 [==============================] - 1s 24ms/step - loss: 0.2705 - get_f1: 0.8790 - accuracy: 0.8998 - val_loss: 0.5344 - val_get_f1: 0.7138 - val_accuracy: 0.7638\n",
            "Epoch 68/100\n",
            "54/54 [==============================] - 1s 25ms/step - loss: 0.2659 - get_f1: 0.8824 - accuracy: 0.9045 - val_loss: 0.5362 - val_get_f1: 0.7138 - val_accuracy: 0.7638\n",
            "Epoch 69/100\n",
            "54/54 [==============================] - 1s 24ms/step - loss: 0.2697 - get_f1: 0.8758 - accuracy: 0.9015 - val_loss: 0.5385 - val_get_f1: 0.7190 - val_accuracy: 0.7664\n",
            "Epoch 70/100\n",
            "54/54 [==============================] - 1s 24ms/step - loss: 0.2591 - get_f1: 0.8873 - accuracy: 0.9061 - val_loss: 0.5406 - val_get_f1: 0.7192 - val_accuracy: 0.7677\n",
            "Epoch 71/100\n",
            "54/54 [==============================] - 1s 25ms/step - loss: 0.2466 - get_f1: 0.8907 - accuracy: 0.9104 - val_loss: 0.5429 - val_get_f1: 0.7169 - val_accuracy: 0.7651\n",
            "Epoch 72/100\n",
            "54/54 [==============================] - 1s 24ms/step - loss: 0.2485 - get_f1: 0.8854 - accuracy: 0.9078 - val_loss: 0.5447 - val_get_f1: 0.7158 - val_accuracy: 0.7638\n",
            "Epoch 73/100\n",
            "54/54 [==============================] - 1s 24ms/step - loss: 0.2506 - get_f1: 0.8968 - accuracy: 0.9149 - val_loss: 0.5474 - val_get_f1: 0.7186 - val_accuracy: 0.7677\n",
            "Epoch 74/100\n",
            "54/54 [==============================] - 1s 24ms/step - loss: 0.2392 - get_f1: 0.8923 - accuracy: 0.9125 - val_loss: 0.5493 - val_get_f1: 0.7151 - val_accuracy: 0.7638\n",
            "Epoch 75/100\n",
            "54/54 [==============================] - 1s 24ms/step - loss: 0.2431 - get_f1: 0.8910 - accuracy: 0.9116 - val_loss: 0.5519 - val_get_f1: 0.7171 - val_accuracy: 0.7638\n",
            "Epoch 76/100\n",
            "54/54 [==============================] - 1s 24ms/step - loss: 0.2381 - get_f1: 0.8957 - accuracy: 0.9130 - val_loss: 0.5543 - val_get_f1: 0.7166 - val_accuracy: 0.7638\n",
            "Epoch 77/100\n",
            "54/54 [==============================] - 1s 24ms/step - loss: 0.2335 - get_f1: 0.8964 - accuracy: 0.9148 - val_loss: 0.5569 - val_get_f1: 0.7132 - val_accuracy: 0.7598\n",
            "Epoch 78/100\n",
            "54/54 [==============================] - 1s 24ms/step - loss: 0.2219 - get_f1: 0.9048 - accuracy: 0.9239 - val_loss: 0.5593 - val_get_f1: 0.7154 - val_accuracy: 0.7625\n",
            "Epoch 79/100\n",
            "54/54 [==============================] - 1s 24ms/step - loss: 0.2236 - get_f1: 0.9038 - accuracy: 0.9207 - val_loss: 0.5621 - val_get_f1: 0.7144 - val_accuracy: 0.7598\n",
            "Epoch 80/100\n",
            "54/54 [==============================] - 1s 24ms/step - loss: 0.2210 - get_f1: 0.9029 - accuracy: 0.9209 - val_loss: 0.5643 - val_get_f1: 0.7121 - val_accuracy: 0.7585\n",
            "Epoch 81/100\n",
            "54/54 [==============================] - 1s 25ms/step - loss: 0.2147 - get_f1: 0.9042 - accuracy: 0.9198 - val_loss: 0.5674 - val_get_f1: 0.7130 - val_accuracy: 0.7585\n",
            "Epoch 82/100\n",
            "54/54 [==============================] - 1s 24ms/step - loss: 0.2026 - get_f1: 0.9188 - accuracy: 0.9332 - val_loss: 0.5701 - val_get_f1: 0.7152 - val_accuracy: 0.7598\n",
            "Epoch 83/100\n",
            "54/54 [==============================] - 1s 24ms/step - loss: 0.2151 - get_f1: 0.9051 - accuracy: 0.9230 - val_loss: 0.5728 - val_get_f1: 0.7152 - val_accuracy: 0.7612\n",
            "Epoch 84/100\n",
            "54/54 [==============================] - 1s 24ms/step - loss: 0.2074 - get_f1: 0.9122 - accuracy: 0.9287 - val_loss: 0.5761 - val_get_f1: 0.7141 - val_accuracy: 0.7598\n",
            "Epoch 85/100\n",
            "54/54 [==============================] - 1s 25ms/step - loss: 0.2049 - get_f1: 0.9094 - accuracy: 0.9256 - val_loss: 0.5787 - val_get_f1: 0.7131 - val_accuracy: 0.7572\n",
            "Epoch 86/100\n",
            "54/54 [==============================] - 1s 24ms/step - loss: 0.1985 - get_f1: 0.9180 - accuracy: 0.9317 - val_loss: 0.5818 - val_get_f1: 0.7131 - val_accuracy: 0.7585\n",
            "Epoch 87/100\n",
            "54/54 [==============================] - 1s 24ms/step - loss: 0.1971 - get_f1: 0.9174 - accuracy: 0.9306 - val_loss: 0.5846 - val_get_f1: 0.7153 - val_accuracy: 0.7598\n",
            "Epoch 88/100\n",
            "54/54 [==============================] - 1s 24ms/step - loss: 0.1937 - get_f1: 0.9191 - accuracy: 0.9335 - val_loss: 0.5871 - val_get_f1: 0.7142 - val_accuracy: 0.7585\n",
            "Epoch 89/100\n",
            "54/54 [==============================] - 1s 24ms/step - loss: 0.1869 - get_f1: 0.9210 - accuracy: 0.9339 - val_loss: 0.5898 - val_get_f1: 0.7144 - val_accuracy: 0.7585\n",
            "Epoch 90/100\n",
            "54/54 [==============================] - 1s 24ms/step - loss: 0.1890 - get_f1: 0.9160 - accuracy: 0.9327 - val_loss: 0.5930 - val_get_f1: 0.7136 - val_accuracy: 0.7585\n",
            "Epoch 91/100\n",
            "54/54 [==============================] - 1s 25ms/step - loss: 0.1861 - get_f1: 0.9244 - accuracy: 0.9381 - val_loss: 0.5962 - val_get_f1: 0.7133 - val_accuracy: 0.7585\n",
            "Epoch 92/100\n",
            "54/54 [==============================] - 1s 24ms/step - loss: 0.1816 - get_f1: 0.9215 - accuracy: 0.9358 - val_loss: 0.5989 - val_get_f1: 0.7096 - val_accuracy: 0.7520\n",
            "Epoch 93/100\n",
            "54/54 [==============================] - 1s 24ms/step - loss: 0.1786 - get_f1: 0.9271 - accuracy: 0.9389 - val_loss: 0.6018 - val_get_f1: 0.7083 - val_accuracy: 0.7546\n",
            "Epoch 94/100\n",
            "54/54 [==============================] - 1s 24ms/step - loss: 0.1706 - get_f1: 0.9312 - accuracy: 0.9429 - val_loss: 0.6047 - val_get_f1: 0.7143 - val_accuracy: 0.7572\n",
            "Epoch 95/100\n",
            "54/54 [==============================] - 1s 24ms/step - loss: 0.1735 - get_f1: 0.9322 - accuracy: 0.9441 - val_loss: 0.6082 - val_get_f1: 0.7069 - val_accuracy: 0.7533\n",
            "Epoch 96/100\n",
            "54/54 [==============================] - 1s 24ms/step - loss: 0.1738 - get_f1: 0.9288 - accuracy: 0.9386 - val_loss: 0.6108 - val_get_f1: 0.7076 - val_accuracy: 0.7520\n",
            "Epoch 97/100\n",
            "54/54 [==============================] - 1s 24ms/step - loss: 0.1688 - get_f1: 0.9332 - accuracy: 0.9442 - val_loss: 0.6142 - val_get_f1: 0.7062 - val_accuracy: 0.7493\n",
            "Epoch 98/100\n",
            "54/54 [==============================] - 1s 24ms/step - loss: 0.1664 - get_f1: 0.9315 - accuracy: 0.9435 - val_loss: 0.6171 - val_get_f1: 0.7069 - val_accuracy: 0.7480\n",
            "Epoch 99/100\n",
            "54/54 [==============================] - 1s 25ms/step - loss: 0.1607 - get_f1: 0.9339 - accuracy: 0.9448 - val_loss: 0.6203 - val_get_f1: 0.7103 - val_accuracy: 0.7520\n",
            "Epoch 100/100\n",
            "54/54 [==============================] - 1s 24ms/step - loss: 0.1590 - get_f1: 0.9369 - accuracy: 0.9481 - val_loss: 0.6235 - val_get_f1: 0.7080 - val_accuracy: 0.7493\n"
          ],
          "name": "stdout"
        }
      ]
    },
    {
      "cell_type": "code",
      "metadata": {
        "colab": {
          "base_uri": "https://localhost:8080/"
        },
        "id": "3rrUM7jBcAKF",
        "outputId": "aaf6fb24-60c2-4090-bd11-ef0d15e5c77d"
      },
      "source": [
        "pred=model.predict_classes(X_pad_test)"
      ],
      "execution_count": null,
      "outputs": [
        {
          "output_type": "stream",
          "text": [
            "/usr/local/lib/python3.7/dist-packages/tensorflow/python/keras/engine/sequential.py:450: UserWarning: `model.predict_classes()` is deprecated and will be removed after 2021-01-01. Please use instead:* `np.argmax(model.predict(x), axis=-1)`,   if your model does multi-class classification   (e.g. if it uses a `softmax` last-layer activation).* `(model.predict(x) > 0.5).astype(\"int32\")`,   if your model does binary classification   (e.g. if it uses a `sigmoid` last-layer activation).\n",
            "  warnings.warn('`model.predict_classes()` is deprecated and '\n"
          ],
          "name": "stderr"
        }
      ]
    },
    {
      "cell_type": "code",
      "metadata": {
        "id": "PHFErXC_cGFc"
      },
      "source": [
        "sub = pd.DataFrame()\n",
        "sub['Id'] = test_id\n",
        "sub['target'] = pred"
      ],
      "execution_count": null,
      "outputs": []
    },
    {
      "cell_type": "code",
      "metadata": {
        "colab": {
          "base_uri": "https://localhost:8080/",
          "height": 204
        },
        "id": "orM_eEBLonFj",
        "outputId": "6db4ee4a-ef55-470d-c5a9-6b71103fc117"
      },
      "source": [
        "sub.head()"
      ],
      "execution_count": null,
      "outputs": [
        {
          "output_type": "execute_result",
          "data": {
            "text/html": [
              "<div>\n",
              "<style scoped>\n",
              "    .dataframe tbody tr th:only-of-type {\n",
              "        vertical-align: middle;\n",
              "    }\n",
              "\n",
              "    .dataframe tbody tr th {\n",
              "        vertical-align: top;\n",
              "    }\n",
              "\n",
              "    .dataframe thead th {\n",
              "        text-align: right;\n",
              "    }\n",
              "</style>\n",
              "<table border=\"1\" class=\"dataframe\">\n",
              "  <thead>\n",
              "    <tr style=\"text-align: right;\">\n",
              "      <th></th>\n",
              "      <th>Id</th>\n",
              "      <th>target</th>\n",
              "    </tr>\n",
              "  </thead>\n",
              "  <tbody>\n",
              "    <tr>\n",
              "      <th>0</th>\n",
              "      <td>0</td>\n",
              "      <td>1</td>\n",
              "    </tr>\n",
              "    <tr>\n",
              "      <th>1</th>\n",
              "      <td>2</td>\n",
              "      <td>1</td>\n",
              "    </tr>\n",
              "    <tr>\n",
              "      <th>2</th>\n",
              "      <td>3</td>\n",
              "      <td>1</td>\n",
              "    </tr>\n",
              "    <tr>\n",
              "      <th>3</th>\n",
              "      <td>9</td>\n",
              "      <td>1</td>\n",
              "    </tr>\n",
              "    <tr>\n",
              "      <th>4</th>\n",
              "      <td>11</td>\n",
              "      <td>1</td>\n",
              "    </tr>\n",
              "  </tbody>\n",
              "</table>\n",
              "</div>"
            ],
            "text/plain": [
              "   Id  target\n",
              "0   0       1\n",
              "1   2       1\n",
              "2   3       1\n",
              "3   9       1\n",
              "4  11       1"
            ]
          },
          "metadata": {
            "tags": []
          },
          "execution_count": 185
        }
      ]
    },
    {
      "cell_type": "code",
      "metadata": {
        "id": "bVy8_DfOpR5a"
      },
      "source": [
        "sub.to_csv('submission_embedding.csv',index=False)"
      ],
      "execution_count": null,
      "outputs": []
    },
    {
      "cell_type": "code",
      "metadata": {
        "id": "r7KWoeGNpel3"
      },
      "source": [
        ""
      ],
      "execution_count": null,
      "outputs": []
    }
  ]
}